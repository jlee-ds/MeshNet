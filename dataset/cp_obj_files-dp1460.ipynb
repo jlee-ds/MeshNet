{
 "cells": [
  {
   "cell_type": "code",
   "execution_count": 7,
   "metadata": {},
   "outputs": [
    {
     "ename": "ModuleNotFoundError",
     "evalue": "No module named 'pymesh'",
     "output_type": "error",
     "traceback": [
      "\u001b[0;31m---------------------------------------------------------------------------\u001b[0m",
      "\u001b[0;31mModuleNotFoundError\u001b[0m                       Traceback (most recent call last)",
      "\u001b[0;32m<ipython-input-7-c22db522cdb0>\u001b[0m in \u001b[0;36m<module>\u001b[0;34m\u001b[0m\n\u001b[1;32m      4\u001b[0m \u001b[0;32mimport\u001b[0m \u001b[0mpandas\u001b[0m \u001b[0;32mas\u001b[0m \u001b[0mpd\u001b[0m\u001b[0;34m\u001b[0m\u001b[0;34m\u001b[0m\u001b[0m\n\u001b[1;32m      5\u001b[0m \u001b[0;32mfrom\u001b[0m \u001b[0mpathlib\u001b[0m \u001b[0;32mimport\u001b[0m \u001b[0mPath\u001b[0m\u001b[0;34m\u001b[0m\u001b[0;34m\u001b[0m\u001b[0m\n\u001b[0;32m----> 6\u001b[0;31m \u001b[0;32mimport\u001b[0m \u001b[0mpymesh\u001b[0m\u001b[0;34m\u001b[0m\u001b[0;34m\u001b[0m\u001b[0m\n\u001b[0m",
      "\u001b[0;31mModuleNotFoundError\u001b[0m: No module named 'pymesh'"
     ]
    }
   ],
   "source": [
    "import os\n",
    "import random\n",
    "import numpy as np\n",
    "import pandas as pd\n",
    "from pathlib import Path"
   ]
  },
  {
   "cell_type": "markdown",
   "metadata": {},
   "source": [
    "#### Make directory according to meshcnn dataloader"
   ]
  },
  {
   "cell_type": "code",
   "execution_count": 2,
   "metadata": {},
   "outputs": [],
   "source": [
    "classes = ['ad', 'cn']\n",
    "data_types = ['train', 'test']\n",
    "for c in classes :\n",
    "    dir_path = './clf_ac141_obj/' + c + '/' \n",
    "    dir_path = Path(dir_path)\n",
    "    dir_path.mkdir(exist_ok=True)\n",
    "    for dt in data_types :\n",
    "        dir_path = './clf_ac141_obj/' + c + '/' + dt + '/'\n",
    "        dir_path = Path(dir_path)\n",
    "        dir_path.mkdir(exist_ok=True)"
   ]
  },
  {
   "cell_type": "markdown",
   "metadata": {},
   "source": [
    "#### Read the ptids from the csv files"
   ]
  },
  {
   "cell_type": "code",
   "execution_count": 17,
   "metadata": {},
   "outputs": [],
   "source": [
    "ad_ptid_df = pd.read_csv('/home/students/jlee/datasets/adni2/ptid/AD_PTID_IMGID.csv')\n",
    "cn_ptid_df = pd.read_csv('/home/students/jlee/datasets/adni2/ptid/CN_PTID_IMGID.csv')"
   ]
  },
  {
   "cell_type": "markdown",
   "metadata": {},
   "source": [
    "#### Shuffle with 1016 seed"
   ]
  },
  {
   "cell_type": "code",
   "execution_count": 18,
   "metadata": {},
   "outputs": [
    {
     "name": "stdout",
     "output_type": "stream",
     "text": [
      "282 378\n"
     ]
    }
   ],
   "source": [
    "ad_ptid_list = list(ad_ptid_df['Column2'].head(len(ad_ptid_df)-1))\n",
    "cn_ptid_list = list(cn_ptid_df['Column2'].head(len(cn_ptid_df)-1))\n",
    "print(len(ad_ptid_list), len(cn_ptid_list))\n",
    "random.seed(1016)\n",
    "random.shuffle(ad_ptid_list)\n",
    "random.shuffle(cn_ptid_list)"
   ]
  },
  {
   "cell_type": "code",
   "execution_count": 3,
   "metadata": {},
   "outputs": [],
   "source": [
    "imgids = np.load('adni2_clsfb_dict.npy', allow_pickle=True).item()"
   ]
  },
  {
   "cell_type": "markdown",
   "metadata": {},
   "source": [
    "#### Copy the data from first-segmented obj files"
   ]
  },
  {
   "cell_type": "code",
   "execution_count": 5,
   "metadata": {},
   "outputs": [],
   "source": [
    "dir_path = '/Users/jlee/Desktop/JONG/tum/thesis/data/adni2/total_obj/'\n",
    "target_path = './clf_ac141_obj/'"
   ]
  },
  {
   "cell_type": "code",
   "execution_count": 6,
   "metadata": {},
   "outputs": [],
   "source": [
    "for dx in imgids.keys() :\n",
    "    for tt in imgids[dx].keys() :\n",
    "        for i in imgids[dx][tt] :\n",
    "            f = i + '-L_Hipp_first.obj'\n",
    "            cmd = 'cp ' + dir_path + f + ' ' + target_path + dx + '/' + tt + '/' + f\n",
    "            os.system(cmd)"
   ]
  },
  {
   "cell_type": "code",
   "execution_count": null,
   "metadata": {},
   "outputs": [],
   "source": []
  }
 ],
 "metadata": {
  "kernelspec": {
   "display_name": "Python 3",
   "language": "python",
   "name": "python3"
  },
  "language_info": {
   "codemirror_mode": {
    "name": "ipython",
    "version": 3
   },
   "file_extension": ".py",
   "mimetype": "text/x-python",
   "name": "python",
   "nbconvert_exporter": "python",
   "pygments_lexer": "ipython3",
   "version": "3.7.4"
  }
 },
 "nbformat": 4,
 "nbformat_minor": 4
}
